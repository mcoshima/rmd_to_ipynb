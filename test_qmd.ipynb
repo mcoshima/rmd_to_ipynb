{
  "cells": [
    {
      "cell_type": "markdown",
      "metadata": {},
      "source": [
        "# test_qmd\n",
        "\n",
        "## Quarto\n",
        "\n",
        "Quarto enables you to weave together content and executable code into a\n",
        "finished document. To learn more about Quarto see <https://quarto.org>.\n",
        "`params$species`\n",
        "\n",
        "## Running Code\n",
        "\n",
        "When you click the **Render** button a document will be generated that\n",
        "includes both content and the output of embedded code. You can embed\n",
        "code like this:"
      ],
      "id": "b73c850a-acb2-408b-b63b-a98d5e5acc73"
    },
    {
      "cell_type": "code",
      "execution_count": null,
      "metadata": {},
      "outputs": [
        {
          "output_type": "stream",
          "name": "stdout",
          "text": [
            "[1] 2"
          ]
        }
      ],
      "source": [
        "1 + 1"
      ],
      "id": "285e39e5-60a8-4ba2-8ffa-9fbace0569bc"
    },
    {
      "cell_type": "markdown",
      "metadata": {},
      "source": [
        "You can add options to executable code like this"
      ],
      "id": "ee845c39-7aed-4778-a0fa-184b4d8a4e4b"
    },
    {
      "cell_type": "code",
      "execution_count": null,
      "metadata": {},
      "outputs": [
        {
          "output_type": "stream",
          "name": "stdout",
          "text": [
            "[1] 4"
          ]
        }
      ],
      "source": [],
      "id": "9af8db3b-15ee-47c9-95d5-e3156267b8b7"
    },
    {
      "cell_type": "markdown",
      "metadata": {},
      "source": [
        "The `echo: false` option disables the printing of code (only output is\n",
        "displayed)."
      ],
      "id": "7de74837-62c2-427b-bf9f-60d1bc5f2a6c"
    }
  ],
  "nbformat": 4,
  "nbformat_minor": 5,
  "metadata": {
    "kernelspec": {
      "display_name": "Python 3",
      "language": "python",
      "name": "python3"
    }
  }
}